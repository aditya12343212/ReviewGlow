{
 "cells": [
  {
   "cell_type": "code",
   "execution_count": 2,
   "id": "3558dd6c-c8ce-43d5-86f6-4a28095c5580",
   "metadata": {},
   "outputs": [
    {
     "name": "stderr",
     "output_type": "stream",
     "text": [
      "WARNING:root:Limited tf.compat.v2.summary API due to missing TensorBoard installation.\n",
      "WARNING:root:Limited tf.compat.v2.summary API due to missing TensorBoard installation.\n",
      "WARNING:root:Limited tf.compat.v2.summary API due to missing TensorBoard installation.\n",
      "WARNING:root:Limited tf.summary API due to missing TensorBoard installation.\n",
      "WARNING:root:Limited tf.compat.v2.summary API due to missing TensorBoard installation.\n",
      "WARNING:root:Limited tf.compat.v2.summary API due to missing TensorBoard installation.\n",
      "WARNING:root:Limited tf.compat.v2.summary API due to missing TensorBoard installation.\n"
     ]
    },
    {
     "name": "stdout",
     "output_type": "stream",
     "text": [
      "\u001b[1mDownloading and preparing dataset Unknown size (download: Unknown size, generated: Unknown size, total: Unknown size) to C:\\Users\\hp\\tensorflow_datasets\\imdb_reviews\\plain_text\\1.0.0...\u001b[0m\n"
     ]
    },
    {
     "data": {
      "application/vnd.jupyter.widget-view+json": {
       "model_id": "4423855586654ee4874592860379e293",
       "version_major": 2,
       "version_minor": 0
      },
      "text/plain": [
       "Dl Completed...: 0 url [00:00, ? url/s]"
      ]
     },
     "metadata": {},
     "output_type": "display_data"
    },
    {
     "data": {
      "application/vnd.jupyter.widget-view+json": {
       "model_id": "1ee101f48c394d17af4725de6229f6b7",
       "version_major": 2,
       "version_minor": 0
      },
      "text/plain": [
       "Dl Size...: 0 MiB [00:00, ? MiB/s]"
      ]
     },
     "metadata": {},
     "output_type": "display_data"
    },
    {
     "data": {
      "application/vnd.jupyter.widget-view+json": {
       "model_id": "e2f4d291a61f4bb497661cdbe0a9be87",
       "version_major": 2,
       "version_minor": 0
      },
      "text/plain": [
       "Generating splits...:   0%|          | 0/3 [00:00<?, ? splits/s]"
      ]
     },
     "metadata": {},
     "output_type": "display_data"
    },
    {
     "data": {
      "application/vnd.jupyter.widget-view+json": {
       "model_id": "67be01face084b248b5c06db85df5d30",
       "version_major": 2,
       "version_minor": 0
      },
      "text/plain": [
       "Generating train examples...: 0 examples [00:00, ? examples/s]"
      ]
     },
     "metadata": {},
     "output_type": "display_data"
    },
    {
     "data": {
      "application/vnd.jupyter.widget-view+json": {
       "model_id": "0a1d35eb25c841608ba68bc29216ebaf",
       "version_major": 2,
       "version_minor": 0
      },
      "text/plain": [
       "Shuffling C:\\Users\\hp\\tensorflow_datasets\\imdb_reviews\\plain_text\\incomplete.SMS7Y7_1.0.0\\imdb_reviews-train.t…"
      ]
     },
     "metadata": {},
     "output_type": "display_data"
    },
    {
     "data": {
      "application/vnd.jupyter.widget-view+json": {
       "model_id": "1087503e299b4ca88589dad5a72606e1",
       "version_major": 2,
       "version_minor": 0
      },
      "text/plain": [
       "Generating test examples...: 0 examples [00:00, ? examples/s]"
      ]
     },
     "metadata": {},
     "output_type": "display_data"
    },
    {
     "data": {
      "application/vnd.jupyter.widget-view+json": {
       "model_id": "f1759eb724fb460084c5938a58871bfd",
       "version_major": 2,
       "version_minor": 0
      },
      "text/plain": [
       "Shuffling C:\\Users\\hp\\tensorflow_datasets\\imdb_reviews\\plain_text\\incomplete.SMS7Y7_1.0.0\\imdb_reviews-test.tf…"
      ]
     },
     "metadata": {},
     "output_type": "display_data"
    },
    {
     "data": {
      "application/vnd.jupyter.widget-view+json": {
       "model_id": "9e7fd487ef0a4ba19e40c108b03f1b24",
       "version_major": 2,
       "version_minor": 0
      },
      "text/plain": [
       "Generating unsupervised examples...: 0 examples [00:00, ? examples/s]"
      ]
     },
     "metadata": {},
     "output_type": "display_data"
    },
    {
     "data": {
      "application/vnd.jupyter.widget-view+json": {
       "model_id": "091f3ed5123a408ab8119b82eb517475",
       "version_major": 2,
       "version_minor": 0
      },
      "text/plain": [
       "Shuffling C:\\Users\\hp\\tensorflow_datasets\\imdb_reviews\\plain_text\\incomplete.SMS7Y7_1.0.0\\imdb_reviews-unsuper…"
      ]
     },
     "metadata": {},
     "output_type": "display_data"
    },
    {
     "name": "stdout",
     "output_type": "stream",
     "text": [
      "\u001b[1mDataset imdb_reviews downloaded and prepared to C:\\Users\\hp\\tensorflow_datasets\\imdb_reviews\\plain_text\\1.0.0. Subsequent calls will reuse this data.\u001b[0m\n",
      "Sklearn Logistic Regression Test Accuracy: 0.8792\n",
      "Epoch 1/5\n",
      "625/625 [==============================] - 45s 65ms/step - loss: 0.5123 - accuracy: 0.7443 - val_loss: 0.4100 - val_accuracy: 0.8212\n",
      "Epoch 2/5\n",
      "625/625 [==============================] - 40s 64ms/step - loss: 0.3249 - accuracy: 0.8702 - val_loss: 0.4052 - val_accuracy: 0.8232\n",
      "Epoch 3/5\n",
      "625/625 [==============================] - 40s 63ms/step - loss: 0.2389 - accuracy: 0.9079 - val_loss: 0.4235 - val_accuracy: 0.8184\n",
      "Epoch 4/5\n",
      "625/625 [==============================] - 40s 64ms/step - loss: 0.1618 - accuracy: 0.9410 - val_loss: 0.5086 - val_accuracy: 0.8112\n",
      "Epoch 5/5\n",
      "625/625 [==============================] - 40s 64ms/step - loss: 0.1140 - accuracy: 0.9606 - val_loss: 0.5730 - val_accuracy: 0.8128\n",
      "TensorFlow LSTM Test Accuracy: 0.7787\n",
      "'This movie was absolutely fantastic and thrilling!' -> Positive\n",
      "'Terrible plot and boring acting.' -> Negative\n"
     ]
    }
   ],
   "source": [
    "import numpy as np\n",
    "import tensorflow as tf\n",
    "import tensorflow_datasets as tfds\n",
    "from sklearn.feature_extraction.text import TfidfVectorizer\n",
    "from sklearn.linear_model import LogisticRegression\n",
    "from sklearn.metrics import accuracy_score\n",
    "from tensorflow.keras.preprocessing.text import Tokenizer\n",
    "from tensorflow.keras.preprocessing.sequence import pad_sequences\n",
    "\n",
    "# Step 1: Load IMDb Dataset (Predefined)\n",
    "# Load IMDb dataset using TensorFlow Datasets\n",
    "(train_data, test_data), info = tfds.load('imdb_reviews', split=['train', 'test'], as_supervised=True, with_info=True)\n",
    "\n",
    "# Convert to lists for sklearn and TensorFlow\n",
    "X_train, y_train = [], []\n",
    "X_test, y_test = [], []\n",
    "\n",
    "for text, label in train_data:\n",
    "    X_train.append(text.numpy().decode('utf-8'))\n",
    "    y_train.append(label.numpy())\n",
    "for text, label in test_data:\n",
    "    X_test.append(text.numpy().decode('utf-8'))\n",
    "    y_test.append(label.numpy())\n",
    "\n",
    "y_train = np.array(y_train)\n",
    "y_test = np.array(y_test)\n",
    "\n",
    "# Step 2: Sklearn Model (ML: Logistic Regression with TF-IDF)\n",
    "# NLP: TF-IDF Vectorization\n",
    "vectorizer = TfidfVectorizer(max_features=10000, stop_words='english')\n",
    "X_train_tfidf = vectorizer.fit_transform(X_train)\n",
    "X_test_tfidf = vectorizer.transform(X_test)\n",
    "\n",
    "# Train Logistic Regression\n",
    "lr_model = LogisticRegression(max_iter=200)\n",
    "lr_model.fit(X_train_tfidf, y_train)\n",
    "\n",
    "# Evaluate\n",
    "y_pred_lr = lr_model.predict(X_test_tfidf)\n",
    "lr_accuracy = accuracy_score(y_test, y_pred_lr)\n",
    "print(f\"Sklearn Logistic Regression Test Accuracy: {lr_accuracy:.4f}\")\n",
    "\n",
    "# Step 3: TensorFlow RNN Model (DL)\n",
    "# NLP: Tokenization and Padding\n",
    "vocab_size = 10000\n",
    "max_len = 100\n",
    "tokenizer = Tokenizer(num_words=vocab_size, oov_token='<OOV>')\n",
    "tokenizer.fit_on_texts(X_train)\n",
    "\n",
    "X_train_seq = tokenizer.texts_to_sequences(X_train)\n",
    "X_test_seq = tokenizer.texts_to_sequences(X_test)\n",
    "\n",
    "X_train_padded = pad_sequences(X_train_seq, maxlen=max_len, padding='post', truncating='post')\n",
    "X_test_padded = pad_sequences(X_test_seq, maxlen=max_len, padding='post', truncating='post')\n",
    "\n",
    "# Define RNN Model with LSTM\n",
    "model = tf.keras.Sequential([\n",
    "    tf.keras.layers.Embedding(vocab_size, 64, input_length=max_len),\n",
    "    tf.keras.layers.LSTM(64, return_sequences=False),\n",
    "    tf.keras.layers.Dense(32, activation='relu'),\n",
    "    tf.keras.layers.Dense(1, activation='sigmoid')\n",
    "])\n",
    "\n",
    "# Compile model\n",
    "model.compile(loss='binary_crossentropy', optimizer='adam', metrics=['accuracy'])\n",
    "\n",
    "# Train model\n",
    "history = model.fit(X_train_padded, y_train, epochs=5, batch_size=32, validation_split=0.2, verbose=1)\n",
    "\n",
    "# Evaluate\n",
    "test_loss, test_acc = model.evaluate(X_test_padded, y_test, verbose=0)\n",
    "print(f\"TensorFlow LSTM Test Accuracy: {test_acc:.4f}\")\n",
    "\n",
    "# Step 4: Predict on Custom Text (NLP: Inference)\n",
    "def predict_sentiment(text, model, tokenizer, max_len):\n",
    "    seq = tokenizer.texts_to_sequences([text])\n",
    "    padded = pad_sequences(seq, maxlen=max_len, padding='post', truncating='post')\n",
    "    pred = model.predict(padded, verbose=0)[0][0]\n",
    "    return \"Positive\" if pred > 0.5 else \"Negative\"\n",
    "\n",
    "# Test predictions\n",
    "test_texts = [\n",
    "    \"This movie was absolutely fantastic and thrilling!\",\n",
    "    \"Terrible plot and boring acting.\"\n",
    "]\n",
    "for text in test_texts:\n",
    "    print(f\"'{text}' -> {predict_sentiment(text, model, tokenizer, max_len)}\")"
   ]
  },
  {
   "cell_type": "code",
   "execution_count": null,
   "id": "ead03620-fd7b-4d99-b1ce-e441a05f0e03",
   "metadata": {},
   "outputs": [],
   "source": []
  }
 ],
 "metadata": {
  "kernelspec": {
   "display_name": "Python 3 (ipykernel)",
   "language": "python",
   "name": "python3"
  },
  "language_info": {
   "codemirror_mode": {
    "name": "ipython",
    "version": 3
   },
   "file_extension": ".py",
   "mimetype": "text/x-python",
   "name": "python",
   "nbconvert_exporter": "python",
   "pygments_lexer": "ipython3",
   "version": "3.11.5"
  },
  "widgets": {
   "application/vnd.jupyter.widget-state+json": {
    "state": {
     "00861f074a354ccb9a79f2f8b0ffdfc2": {
      "model_module": "@jupyter-widgets/controls",
      "model_module_version": "2.0.0",
      "model_name": "HTMLModel",
      "state": {
       "layout": "IPY_MODEL_44441352eec248b882114fc47ff6d911",
       "style": "IPY_MODEL_4658322a10244a54a543f82fb55787f1",
       "value": " 47567/? [00:29&lt;00:00, 2462.11 examples/s]"
      }
     },
     "0558966c913b47ca8458e565e1c5201b": {
      "model_module": "@jupyter-widgets/controls",
      "model_module_version": "2.0.0",
      "model_name": "HTMLStyleModel",
      "state": {
       "description_width": "",
       "font_size": null,
       "text_color": null
      }
     },
     "06dccd4b32174b9d8cad7c9f712c2fbe": {
      "model_module": "@jupyter-widgets/base",
      "model_module_version": "2.0.0",
      "model_name": "LayoutModel",
      "state": {
       "visibility": "hidden"
      }
     },
     "0b74d39d463247d486d4734288639153": {
      "model_module": "@jupyter-widgets/controls",
      "model_module_version": "2.0.0",
      "model_name": "HTMLStyleModel",
      "state": {
       "description_width": "",
       "font_size": null,
       "text_color": null
      }
     },
     "0bd8692f79d144ef86b684655ee1b5ea": {
      "model_module": "@jupyter-widgets/controls",
      "model_module_version": "2.0.0",
      "model_name": "HTMLModel",
      "state": {
       "layout": "IPY_MODEL_2fa07ed293d3489da205ed0217591386",
       "style": "IPY_MODEL_547c0ae2d3a842809aea318994a5cc87",
       "value": " 14956/25000 [00:01&lt;00:00, 14953.67 examples/s]"
      }
     },
     "115766e19a7d4acd957956553e27d95a": {
      "model_module": "@jupyter-widgets/base",
      "model_module_version": "2.0.0",
      "model_name": "LayoutModel",
      "state": {
       "width": "20px"
      }
     },
     "12ca71d0478648b39cd1a62210b15dcf": {
      "model_module": "@jupyter-widgets/base",
      "model_module_version": "2.0.0",
      "model_name": "LayoutModel",
      "state": {}
     },
     "1412c886c8024e71941a6e4c3eff9cd8": {
      "model_module": "@jupyter-widgets/controls",
      "model_module_version": "2.0.0",
      "model_name": "HTMLModel",
      "state": {
       "layout": "IPY_MODEL_8a468e7d748f455d8a939e9296bb8dc2",
       "style": "IPY_MODEL_c0f6afbd2f6041a3af8bfcc0dd2f47b6",
       "value": "Shuffling C:\\Users\\hp\\tensorflow_datasets\\imdb_reviews\\plain_text\\incomplete.SMS7Y7_1.0.0\\imdb_reviews-test.tfrecord*...:  60%"
      }
     },
     "14433aed62424774bea257bce4e03eaa": {
      "model_module": "@jupyter-widgets/controls",
      "model_module_version": "2.0.0",
      "model_name": "FloatProgressModel",
      "state": {
       "layout": "IPY_MODEL_e403156606504808ba4d775a9fc6a02b",
       "max": 3,
       "style": "IPY_MODEL_91802925918b48779096608a7a237279",
       "value": 3
      }
     },
     "1ee101f48c394d17af4725de6229f6b7": {
      "model_module": "@jupyter-widgets/controls",
      "model_module_version": "2.0.0",
      "model_name": "HBoxModel",
      "state": {
       "children": [
        "IPY_MODEL_48668406d7c544d59d11dd669b19b002",
        "IPY_MODEL_4f47dff507a14c1f91aeedd3c48f3bc8",
        "IPY_MODEL_c534096a44ae4d3ebbcd002e110c7a9f"
       ],
       "layout": "IPY_MODEL_32f766fea66d411793d1e3817368cbc6"
      }
     },
     "1f9737c3138d4b1b9e95821cbc65b9af": {
      "model_module": "@jupyter-widgets/base",
      "model_module_version": "2.0.0",
      "model_name": "LayoutModel",
      "state": {}
     },
     "2379b2974868455683d9d5b77936505e": {
      "model_module": "@jupyter-widgets/controls",
      "model_module_version": "2.0.0",
      "model_name": "HTMLModel",
      "state": {
       "layout": "IPY_MODEL_9d5596237fd14043b7ee8d0ccacd549b",
       "style": "IPY_MODEL_0558966c913b47ca8458e565e1c5201b",
       "value": " 24732/? [00:11&lt;00:00, 2461.16 examples/s]"
      }
     },
     "2548d98f017d43008ca604765555883c": {
      "model_module": "@jupyter-widgets/base",
      "model_module_version": "2.0.0",
      "model_name": "LayoutModel",
      "state": {
       "visibility": "hidden"
      }
     },
     "25a061ba3bea48cdb946ba4fea7d96ab": {
      "model_module": "@jupyter-widgets/controls",
      "model_module_version": "2.0.0",
      "model_name": "FloatProgressModel",
      "state": {
       "layout": "IPY_MODEL_75ad2c294c86478d9b0dec621a4241e5",
       "max": 25000,
       "style": "IPY_MODEL_bd69d570f0ee4e52aac02047679bc3c0",
       "value": 25000
      }
     },
     "25fae0e7ab6e4102b2c3d408b9189869": {
      "model_module": "@jupyter-widgets/controls",
      "model_module_version": "2.0.0",
      "model_name": "HTMLModel",
      "state": {
       "layout": "IPY_MODEL_4fb568e8ebba4c969dafd979f8652064",
       "style": "IPY_MODEL_81ee09dffa67482f8a15f81991b49484",
       "value": " 1/1 [04:03&lt;00:00, 243.60s/ url]"
      }
     },
     "2f046691eb3e41d9a80e1b388dc14944": {
      "model_module": "@jupyter-widgets/base",
      "model_module_version": "2.0.0",
      "model_name": "LayoutModel",
      "state": {}
     },
     "2f0ac37f01b6457c9076c17ad2097d46": {
      "model_module": "@jupyter-widgets/controls",
      "model_module_version": "2.0.0",
      "model_name": "ProgressStyleModel",
      "state": {
       "description_width": ""
      }
     },
     "2fa07ed293d3489da205ed0217591386": {
      "model_module": "@jupyter-widgets/base",
      "model_module_version": "2.0.0",
      "model_name": "LayoutModel",
      "state": {}
     },
     "32f766fea66d411793d1e3817368cbc6": {
      "model_module": "@jupyter-widgets/base",
      "model_module_version": "2.0.0",
      "model_name": "LayoutModel",
      "state": {}
     },
     "3375b10b8793432c975ad2c55a8c1b51": {
      "model_module": "@jupyter-widgets/controls",
      "model_module_version": "2.0.0",
      "model_name": "FloatProgressModel",
      "state": {
       "bar_style": "info",
       "layout": "IPY_MODEL_d31d2eb93daa45ba801ece7f665e370f",
       "max": 1,
       "style": "IPY_MODEL_f3c93c8fdb4440bfa663ba1d7fc6f6f1",
       "value": 1
      }
     },
     "3597d10aa5a240d0ad25506c93ce10f5": {
      "model_module": "@jupyter-widgets/controls",
      "model_module_version": "2.0.0",
      "model_name": "HTMLModel",
      "state": {
       "layout": "IPY_MODEL_fe845ecb5bda466190dc6c28a7fabcb1",
       "style": "IPY_MODEL_a458d11b250d4e18a8d277545044c872",
       "value": "Shuffling C:\\Users\\hp\\tensorflow_datasets\\imdb_reviews\\plain_text\\incomplete.SMS7Y7_1.0.0\\imdb_reviews-train.tfrecord*...:  60%"
      }
     },
     "3beee16d5e8640ea95abfa33a0e35864": {
      "model_module": "@jupyter-widgets/controls",
      "model_module_version": "2.0.0",
      "model_name": "FloatProgressModel",
      "state": {
       "bar_style": "info",
       "layout": "IPY_MODEL_e6247107da654cfbbd2121a69049ee66",
       "max": 1,
       "style": "IPY_MODEL_736828ddc6184eb09687549665804221",
       "value": 1
      }
     },
     "3dd35e2f8cb844a68fd1d6c304256346": {
      "model_module": "@jupyter-widgets/controls",
      "model_module_version": "2.0.0",
      "model_name": "ProgressStyleModel",
      "state": {
       "description_width": ""
      }
     },
     "41218815837f44e98ab1ccaf09fe7414": {
      "model_module": "@jupyter-widgets/base",
      "model_module_version": "2.0.0",
      "model_name": "LayoutModel",
      "state": {}
     },
     "42a0571a0d034c44bee3c44b8178e29f": {
      "model_module": "@jupyter-widgets/base",
      "model_module_version": "2.0.0",
      "model_name": "LayoutModel",
      "state": {}
     },
     "4423855586654ee4874592860379e293": {
      "model_module": "@jupyter-widgets/controls",
      "model_module_version": "2.0.0",
      "model_name": "HBoxModel",
      "state": {
       "children": [
        "IPY_MODEL_5e065ee98a2c48c89c635f5fa3b1528e",
        "IPY_MODEL_6ac6603f79124307864e9b81115c29e6",
        "IPY_MODEL_25fae0e7ab6e4102b2c3d408b9189869"
       ],
       "layout": "IPY_MODEL_ddb883fcc61a4ebd983461b9f03a3142"
      }
     },
     "44441352eec248b882114fc47ff6d911": {
      "model_module": "@jupyter-widgets/base",
      "model_module_version": "2.0.0",
      "model_name": "LayoutModel",
      "state": {}
     },
     "4658322a10244a54a543f82fb55787f1": {
      "model_module": "@jupyter-widgets/controls",
      "model_module_version": "2.0.0",
      "model_name": "HTMLStyleModel",
      "state": {
       "description_width": "",
       "font_size": null,
       "text_color": null
      }
     },
     "48668406d7c544d59d11dd669b19b002": {
      "model_module": "@jupyter-widgets/controls",
      "model_module_version": "2.0.0",
      "model_name": "HTMLModel",
      "state": {
       "layout": "IPY_MODEL_c4281765953941bb9fc2ddcd91b3dcaf",
       "style": "IPY_MODEL_5ddf735b5b0b4368bc5e8d940048215a",
       "value": "Dl Size...: 100%"
      }
     },
     "4f47dff507a14c1f91aeedd3c48f3bc8": {
      "model_module": "@jupyter-widgets/controls",
      "model_module_version": "2.0.0",
      "model_name": "FloatProgressModel",
      "state": {
       "bar_style": "success",
       "layout": "IPY_MODEL_115766e19a7d4acd957956553e27d95a",
       "max": 1,
       "style": "IPY_MODEL_3dd35e2f8cb844a68fd1d6c304256346",
       "value": 1
      }
     },
     "4f570e1d553f424189a730a65371d604": {
      "model_module": "@jupyter-widgets/controls",
      "model_module_version": "2.0.0",
      "model_name": "HTMLStyleModel",
      "state": {
       "description_width": "",
       "font_size": null,
       "text_color": null
      }
     },
     "4fb568e8ebba4c969dafd979f8652064": {
      "model_module": "@jupyter-widgets/base",
      "model_module_version": "2.0.0",
      "model_name": "LayoutModel",
      "state": {}
     },
     "503630ab1d684ad5820945a192abb19b": {
      "model_module": "@jupyter-widgets/controls",
      "model_module_version": "2.0.0",
      "model_name": "HTMLStyleModel",
      "state": {
       "description_width": "",
       "font_size": null,
       "text_color": null
      }
     },
     "547c0ae2d3a842809aea318994a5cc87": {
      "model_module": "@jupyter-widgets/controls",
      "model_module_version": "2.0.0",
      "model_name": "HTMLStyleModel",
      "state": {
       "description_width": "",
       "font_size": null,
       "text_color": null
      }
     },
     "58bc8878bb2d4943af9aaef3bd4dad8b": {
      "model_module": "@jupyter-widgets/controls",
      "model_module_version": "2.0.0",
      "model_name": "HTMLStyleModel",
      "state": {
       "description_width": "",
       "font_size": null,
       "text_color": null
      }
     },
     "5ddf735b5b0b4368bc5e8d940048215a": {
      "model_module": "@jupyter-widgets/controls",
      "model_module_version": "2.0.0",
      "model_name": "HTMLStyleModel",
      "state": {
       "description_width": "",
       "font_size": null,
       "text_color": null
      }
     },
     "5e065ee98a2c48c89c635f5fa3b1528e": {
      "model_module": "@jupyter-widgets/controls",
      "model_module_version": "2.0.0",
      "model_name": "HTMLModel",
      "state": {
       "layout": "IPY_MODEL_d2d79098a33948dfa21e6585a221bb60",
       "style": "IPY_MODEL_c08cb55fb9d54e269c5a9a4727fbbbb1",
       "value": "Dl Completed...: 100%"
      }
     },
     "5e55bb794afd4827be94163ef700e8a5": {
      "model_module": "@jupyter-widgets/controls",
      "model_module_version": "2.0.0",
      "model_name": "FloatProgressModel",
      "state": {
       "layout": "IPY_MODEL_ad79bb282ab94150b3741bc6f848ceef",
       "max": 50000,
       "style": "IPY_MODEL_848042a5e63a45cfbd8931fbc100ba15",
       "value": 50000
      }
     },
     "6657704055624b88902bf101326f0c60": {
      "model_module": "@jupyter-widgets/controls",
      "model_module_version": "2.0.0",
      "model_name": "HTMLStyleModel",
      "state": {
       "description_width": "",
       "font_size": null,
       "text_color": null
      }
     },
     "666308e21fbd48e181721b173c3b8f62": {
      "model_module": "@jupyter-widgets/base",
      "model_module_version": "2.0.0",
      "model_name": "LayoutModel",
      "state": {
       "visibility": "hidden"
      }
     },
     "684c762ae17d478badd22820c82b4d2c": {
      "model_module": "@jupyter-widgets/base",
      "model_module_version": "2.0.0",
      "model_name": "LayoutModel",
      "state": {
       "width": "20px"
      }
     },
     "6ac6603f79124307864e9b81115c29e6": {
      "model_module": "@jupyter-widgets/controls",
      "model_module_version": "2.0.0",
      "model_name": "FloatProgressModel",
      "state": {
       "bar_style": "success",
       "layout": "IPY_MODEL_684c762ae17d478badd22820c82b4d2c",
       "max": 1,
       "style": "IPY_MODEL_2f0ac37f01b6457c9076c17ad2097d46",
       "value": 1
      }
     },
     "6c9077fdaf99423e90c3ece2c6114366": {
      "model_module": "@jupyter-widgets/controls",
      "model_module_version": "2.0.0",
      "model_name": "FloatProgressModel",
      "state": {
       "layout": "IPY_MODEL_42a0571a0d034c44bee3c44b8178e29f",
       "max": 25000,
       "style": "IPY_MODEL_ceb1251d192145df800fa54d605b0e39",
       "value": 25000
      }
     },
     "736828ddc6184eb09687549665804221": {
      "model_module": "@jupyter-widgets/controls",
      "model_module_version": "2.0.0",
      "model_name": "ProgressStyleModel",
      "state": {
       "description_width": ""
      }
     },
     "7498f91806c7487987cece861ac00de7": {
      "model_module": "@jupyter-widgets/controls",
      "model_module_version": "2.0.0",
      "model_name": "HTMLModel",
      "state": {
       "layout": "IPY_MODEL_b336dc60dcde4f71ad791bef5c786966",
       "style": "IPY_MODEL_6657704055624b88902bf101326f0c60",
       "value": "Generating train examples...: "
      }
     },
     "75ad2c294c86478d9b0dec621a4241e5": {
      "model_module": "@jupyter-widgets/base",
      "model_module_version": "2.0.0",
      "model_name": "LayoutModel",
      "state": {}
     },
     "770600662a664b069adfa777f21222ae": {
      "model_module": "@jupyter-widgets/base",
      "model_module_version": "2.0.0",
      "model_name": "LayoutModel",
      "state": {}
     },
     "790db70a92b14d66bfaac5f41fb33cf5": {
      "model_module": "@jupyter-widgets/controls",
      "model_module_version": "2.0.0",
      "model_name": "HTMLModel",
      "state": {
       "layout": "IPY_MODEL_81a19e6503ca42b7a642dae05c78c440",
       "style": "IPY_MODEL_b60a555abd694fc4baaaffc246c39461",
       "value": "Generating test examples...: "
      }
     },
     "7a91919ff3234f3dbf61e1a1fbfff387": {
      "model_module": "@jupyter-widgets/controls",
      "model_module_version": "2.0.0",
      "model_name": "HTMLModel",
      "state": {
       "layout": "IPY_MODEL_e5c952f22aa34dde86eb01aa7bb44117",
       "style": "IPY_MODEL_0b74d39d463247d486d4734288639153",
       "value": "Generating unsupervised examples...: "
      }
     },
     "7b47636b2fbf4b5c9e0e3d5f5d5706d2": {
      "model_module": "@jupyter-widgets/controls",
      "model_module_version": "2.0.0",
      "model_name": "ProgressStyleModel",
      "state": {
       "description_width": ""
      }
     },
     "819e3a410b344e5698fff1e4249fcb19": {
      "model_module": "@jupyter-widgets/controls",
      "model_module_version": "2.0.0",
      "model_name": "HTMLStyleModel",
      "state": {
       "description_width": "",
       "font_size": null,
       "text_color": null
      }
     },
     "81a19e6503ca42b7a642dae05c78c440": {
      "model_module": "@jupyter-widgets/base",
      "model_module_version": "2.0.0",
      "model_name": "LayoutModel",
      "state": {}
     },
     "81ee09dffa67482f8a15f81991b49484": {
      "model_module": "@jupyter-widgets/controls",
      "model_module_version": "2.0.0",
      "model_name": "HTMLStyleModel",
      "state": {
       "description_width": "",
       "font_size": null,
       "text_color": null
      }
     },
     "848042a5e63a45cfbd8931fbc100ba15": {
      "model_module": "@jupyter-widgets/controls",
      "model_module_version": "2.0.0",
      "model_name": "ProgressStyleModel",
      "state": {
       "description_width": ""
      }
     },
     "8a468e7d748f455d8a939e9296bb8dc2": {
      "model_module": "@jupyter-widgets/base",
      "model_module_version": "2.0.0",
      "model_name": "LayoutModel",
      "state": {}
     },
     "8eb2cbccc2cc46e78e7dd8fdb5174af1": {
      "model_module": "@jupyter-widgets/controls",
      "model_module_version": "2.0.0",
      "model_name": "HTMLModel",
      "state": {
       "layout": "IPY_MODEL_770600662a664b069adfa777f21222ae",
       "style": "IPY_MODEL_4f570e1d553f424189a730a65371d604",
       "value": "Generating splits...: 100%"
      }
     },
     "91802925918b48779096608a7a237279": {
      "model_module": "@jupyter-widgets/controls",
      "model_module_version": "2.0.0",
      "model_name": "ProgressStyleModel",
      "state": {
       "description_width": ""
      }
     },
     "9d5596237fd14043b7ee8d0ccacd549b": {
      "model_module": "@jupyter-widgets/base",
      "model_module_version": "2.0.0",
      "model_name": "LayoutModel",
      "state": {}
     },
     "a03b8f728ae14d50819d1fdb1659468b": {
      "model_module": "@jupyter-widgets/base",
      "model_module_version": "2.0.0",
      "model_name": "LayoutModel",
      "state": {}
     },
     "a07b07f351934d309ecbc11426c12406": {
      "model_module": "@jupyter-widgets/controls",
      "model_module_version": "2.0.0",
      "model_name": "HTMLModel",
      "state": {
       "layout": "IPY_MODEL_1f9737c3138d4b1b9e95821cbc65b9af",
       "style": "IPY_MODEL_819e3a410b344e5698fff1e4249fcb19",
       "value": " 22571/? [00:14&lt;00:00, 2347.02 examples/s]"
      }
     },
     "a14d65b11d9f4c6ea2730a107e4e7186": {
      "model_module": "@jupyter-widgets/controls",
      "model_module_version": "2.0.0",
      "model_name": "HTMLStyleModel",
      "state": {
       "description_width": "",
       "font_size": null,
       "text_color": null
      }
     },
     "a458d11b250d4e18a8d277545044c872": {
      "model_module": "@jupyter-widgets/controls",
      "model_module_version": "2.0.0",
      "model_name": "HTMLStyleModel",
      "state": {
       "description_width": "",
       "font_size": null,
       "text_color": null
      }
     },
     "a58b21d3c47a4c668d03025451bd723d": {
      "model_module": "@jupyter-widgets/base",
      "model_module_version": "2.0.0",
      "model_name": "LayoutModel",
      "state": {
       "visibility": "hidden"
      }
     },
     "a7f4fb09447c45e2b82b9a01d0ae8e11": {
      "model_module": "@jupyter-widgets/base",
      "model_module_version": "2.0.0",
      "model_name": "LayoutModel",
      "state": {
       "visibility": "hidden"
      }
     },
     "a97af81b6c4d47a588fcb6bddb1e3d40": {
      "model_module": "@jupyter-widgets/base",
      "model_module_version": "2.0.0",
      "model_name": "LayoutModel",
      "state": {}
     },
     "ad1f3fce0ff94ff0bee683e4a15c15c7": {
      "model_module": "@jupyter-widgets/controls",
      "model_module_version": "2.0.0",
      "model_name": "HTMLStyleModel",
      "state": {
       "description_width": "",
       "font_size": null,
       "text_color": null
      }
     },
     "ad79bb282ab94150b3741bc6f848ceef": {
      "model_module": "@jupyter-widgets/base",
      "model_module_version": "2.0.0",
      "model_name": "LayoutModel",
      "state": {}
     },
     "af797f6f2f4547ff92d74a6dcc215fad": {
      "model_module": "@jupyter-widgets/base",
      "model_module_version": "2.0.0",
      "model_name": "LayoutModel",
      "state": {
       "visibility": "hidden"
      }
     },
     "b336dc60dcde4f71ad791bef5c786966": {
      "model_module": "@jupyter-widgets/base",
      "model_module_version": "2.0.0",
      "model_name": "LayoutModel",
      "state": {}
     },
     "b60a555abd694fc4baaaffc246c39461": {
      "model_module": "@jupyter-widgets/controls",
      "model_module_version": "2.0.0",
      "model_name": "HTMLStyleModel",
      "state": {
       "description_width": "",
       "font_size": null,
       "text_color": null
      }
     },
     "bd69d570f0ee4e52aac02047679bc3c0": {
      "model_module": "@jupyter-widgets/controls",
      "model_module_version": "2.0.0",
      "model_name": "ProgressStyleModel",
      "state": {
       "description_width": ""
      }
     },
     "bfbf2bf9bae7486f97b0efac18c7f316": {
      "model_module": "@jupyter-widgets/controls",
      "model_module_version": "2.0.0",
      "model_name": "HTMLModel",
      "state": {
       "layout": "IPY_MODEL_12ca71d0478648b39cd1a62210b15dcf",
       "style": "IPY_MODEL_503630ab1d684ad5820945a192abb19b",
       "value": " 15038/25000 [00:01&lt;00:00, 15026.91 examples/s]"
      }
     },
     "c08cb55fb9d54e269c5a9a4727fbbbb1": {
      "model_module": "@jupyter-widgets/controls",
      "model_module_version": "2.0.0",
      "model_name": "HTMLStyleModel",
      "state": {
       "description_width": "",
       "font_size": null,
       "text_color": null
      }
     },
     "c0f6afbd2f6041a3af8bfcc0dd2f47b6": {
      "model_module": "@jupyter-widgets/controls",
      "model_module_version": "2.0.0",
      "model_name": "HTMLStyleModel",
      "state": {
       "description_width": "",
       "font_size": null,
       "text_color": null
      }
     },
     "c4281765953941bb9fc2ddcd91b3dcaf": {
      "model_module": "@jupyter-widgets/base",
      "model_module_version": "2.0.0",
      "model_name": "LayoutModel",
      "state": {}
     },
     "c534096a44ae4d3ebbcd002e110c7a9f": {
      "model_module": "@jupyter-widgets/controls",
      "model_module_version": "2.0.0",
      "model_name": "HTMLModel",
      "state": {
       "layout": "IPY_MODEL_a97af81b6c4d47a588fcb6bddb1e3d40",
       "style": "IPY_MODEL_58bc8878bb2d4943af9aaef3bd4dad8b",
       "value": " 80/80 [04:03&lt;00:00,  3.25s/ MiB]"
      }
     },
     "c7005520c1084157b6961c8f83f0545c": {
      "model_module": "@jupyter-widgets/controls",
      "model_module_version": "2.0.0",
      "model_name": "FloatProgressModel",
      "state": {
       "bar_style": "info",
       "layout": "IPY_MODEL_f4b3da1a669d44579e976b71af113fb6",
       "max": 1,
       "style": "IPY_MODEL_7b47636b2fbf4b5c9e0e3d5f5d5706d2",
       "value": 1
      }
     },
     "c7acf8a9904341f6a85b11f6d614bc44": {
      "model_module": "@jupyter-widgets/controls",
      "model_module_version": "2.0.0",
      "model_name": "HTMLModel",
      "state": {
       "layout": "IPY_MODEL_41218815837f44e98ab1ccaf09fe7414",
       "style": "IPY_MODEL_cfd9212fac5a4fae823db4dd6fabe353",
       "value": " 45615/50000 [00:03&lt;00:00, 15412.18 examples/s]"
      }
     },
     "cd232f56407e4900965191947c177557": {
      "model_module": "@jupyter-widgets/base",
      "model_module_version": "2.0.0",
      "model_name": "LayoutModel",
      "state": {
       "visibility": "hidden"
      }
     },
     "ceb1251d192145df800fa54d605b0e39": {
      "model_module": "@jupyter-widgets/controls",
      "model_module_version": "2.0.0",
      "model_name": "ProgressStyleModel",
      "state": {
       "description_width": ""
      }
     },
     "cfd9212fac5a4fae823db4dd6fabe353": {
      "model_module": "@jupyter-widgets/controls",
      "model_module_version": "2.0.0",
      "model_name": "HTMLStyleModel",
      "state": {
       "description_width": "",
       "font_size": null,
       "text_color": null
      }
     },
     "d2d79098a33948dfa21e6585a221bb60": {
      "model_module": "@jupyter-widgets/base",
      "model_module_version": "2.0.0",
      "model_name": "LayoutModel",
      "state": {}
     },
     "d31d2eb93daa45ba801ece7f665e370f": {
      "model_module": "@jupyter-widgets/base",
      "model_module_version": "2.0.0",
      "model_name": "LayoutModel",
      "state": {
       "width": "20px"
      }
     },
     "ddb883fcc61a4ebd983461b9f03a3142": {
      "model_module": "@jupyter-widgets/base",
      "model_module_version": "2.0.0",
      "model_name": "LayoutModel",
      "state": {}
     },
     "e2e5a22331934af38d97fe429ff059b1": {
      "model_module": "@jupyter-widgets/controls",
      "model_module_version": "2.0.0",
      "model_name": "HTMLModel",
      "state": {
       "layout": "IPY_MODEL_2f046691eb3e41d9a80e1b388dc14944",
       "style": "IPY_MODEL_a14d65b11d9f4c6ea2730a107e4e7186",
       "value": "Shuffling C:\\Users\\hp\\tensorflow_datasets\\imdb_reviews\\plain_text\\incomplete.SMS7Y7_1.0.0\\imdb_reviews-unsupervised.tfrecord*...:  91%"
      }
     },
     "e403156606504808ba4d775a9fc6a02b": {
      "model_module": "@jupyter-widgets/base",
      "model_module_version": "2.0.0",
      "model_name": "LayoutModel",
      "state": {}
     },
     "e5c952f22aa34dde86eb01aa7bb44117": {
      "model_module": "@jupyter-widgets/base",
      "model_module_version": "2.0.0",
      "model_name": "LayoutModel",
      "state": {}
     },
     "e6247107da654cfbbd2121a69049ee66": {
      "model_module": "@jupyter-widgets/base",
      "model_module_version": "2.0.0",
      "model_name": "LayoutModel",
      "state": {
       "width": "20px"
      }
     },
     "e6ca8981faaa4a7397bcf7fc72ba17ff": {
      "model_module": "@jupyter-widgets/controls",
      "model_module_version": "2.0.0",
      "model_name": "HTMLModel",
      "state": {
       "layout": "IPY_MODEL_a03b8f728ae14d50819d1fdb1659468b",
       "style": "IPY_MODEL_ad1f3fce0ff94ff0bee683e4a15c15c7",
       "value": " 3/3 [01:26&lt;00:00, 29.68s/ splits]"
      }
     },
     "f3c93c8fdb4440bfa663ba1d7fc6f6f1": {
      "model_module": "@jupyter-widgets/controls",
      "model_module_version": "2.0.0",
      "model_name": "ProgressStyleModel",
      "state": {
       "description_width": ""
      }
     },
     "f4b3da1a669d44579e976b71af113fb6": {
      "model_module": "@jupyter-widgets/base",
      "model_module_version": "2.0.0",
      "model_name": "LayoutModel",
      "state": {
       "width": "20px"
      }
     },
     "fe845ecb5bda466190dc6c28a7fabcb1": {
      "model_module": "@jupyter-widgets/base",
      "model_module_version": "2.0.0",
      "model_name": "LayoutModel",
      "state": {}
     }
    },
    "version_major": 2,
    "version_minor": 0
   }
  }
 },
 "nbformat": 4,
 "nbformat_minor": 5
}
